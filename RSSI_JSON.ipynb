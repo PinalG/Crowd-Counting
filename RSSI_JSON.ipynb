{
 "cells": [
  {
   "cell_type": "code",
   "execution_count": 1,
   "id": "6289fb22-c76b-41aa-b085-63ad66c07ca7",
   "metadata": {},
   "outputs": [
    {
     "name": "stdout",
     "output_type": "stream",
     "text": [
      "Requirement already satisfied: comtypes in c:\\users\\pinal\\anaconda3\\lib\\site-packages (1.4.7)\n"
     ]
    },
    {
     "name": "stderr",
     "output_type": "stream",
     "text": [
      "WARNING: Ignoring invalid distribution ~orch (C:\\Users\\pinal\\anaconda3\\Lib\\site-packages)\n",
      "WARNING: Ignoring invalid distribution ~orch (C:\\Users\\pinal\\anaconda3\\Lib\\site-packages)\n",
      "WARNING: Ignoring invalid distribution ~orch (C:\\Users\\pinal\\anaconda3\\Lib\\site-packages)\n",
      "\n",
      "[notice] A new release of pip is available: 24.0 -> 24.2\n",
      "[notice] To update, run: python.exe -m pip install --upgrade pip\n"
     ]
    }
   ],
   "source": [
    "!pip install comtypes"
   ]
  },
  {
   "cell_type": "code",
   "execution_count": 1,
   "id": "bbfa7152-5703-445b-a0b1-3b3252f067b2",
   "metadata": {},
   "outputs": [],
   "source": [
    "import threading\n",
    "import time\n",
    "import datetime as dt\n",
    "import json\n",
    "import os\n",
    "import logging\n",
    "import gc\n",
    "from pywifi import PyWiFi"
   ]
  },
  {
   "cell_type": "code",
   "execution_count": 3,
   "id": "afd8bc7f-f35c-46d2-9214-dcda7eba0302",
   "metadata": {
    "scrolled": true
   },
   "outputs": [
    {
     "name": "stdin",
     "output_type": "stream",
     "text": [
      "Enter 'Y' to start logging, 'N' to stop logging, 'X' to quit, or provide new crowd count:  y\n",
      "Enter initial crowd count:  5\n"
     ]
    },
    {
     "name": "stdout",
     "output_type": "stream",
     "text": [
      "Data collection started with crowd count: 5...\n",
      "Data collected at: 2024-10-18 23:24:25 with crowd count: 5\n",
      "Data collected at: 2024-10-18 23:24:26 with crowd count: 5\n",
      "Data collected at: 2024-10-18 23:24:27 with crowd count: 5\n",
      "Data collected at: 2024-10-18 23:24:28 with crowd count: 5\n",
      "Data collected at: 2024-10-18 23:24:29 with crowd count: 5\n"
     ]
    },
    {
     "name": "stdin",
     "output_type": "stream",
     "text": [
      "Enter 'Y' to start logging, 'N' to stop logging, 'X' to quit, or provide new crowd count:  x\n"
     ]
    },
    {
     "name": "stdout",
     "output_type": "stream",
     "text": [
      "Stopping data collection...\n",
      "Data collection stopped. Ready for next command.\n",
      "Exiting the program.\n"
     ]
    }
   ],
   "source": [
    "FILE_PATH = 'rssi_data_test.json'\n",
    "\n",
    "# Configure logging\n",
    "logging.basicConfig(\n",
    "    filename=f'rssi_{dt.datetime.now().strftime(\"%Y%m%d%H%M%S\")}.log',\n",
    "    level=logging.INFO,\n",
    "    format='%(asctime)s - %(levelname)s - %(message)s',\n",
    "    datefmt='%Y-%m-%d %H:%M:%S'\n",
    ")\n",
    "\n",
    "# Threading control\n",
    "stop_event = threading.Event()  # Used to stop the data collection thread\n",
    "running = False  # Flag to indicate whether data collection is ongoing\n",
    "crowd_count_lock = threading.Lock()  # Lock to handle concurrent access to crowd_count\n",
    "crowd_count = None  # Variable to store the crowd count\n",
    "\n",
    "def init(file_path):\n",
    "    \"\"\"Initialize the JSON file by creating an opening bracket for the array.\"\"\"\n",
    "    with open(file_path, 'w') as file:\n",
    "        file.write('[')  # Start the JSON array\n",
    "    logging.info(f\"Initialized JSON file: {file_path}\")\n",
    "\n",
    "def append_record(file_path, record):\n",
    "    \"\"\"Append a single record to the JSON file without loading the entire file.\"\"\"\n",
    "    with open(file_path, 'a+') as file:\n",
    "        file.seek(0, os.SEEK_END)\n",
    "        # Add a comma before appending a new record (if it's not the first record)\n",
    "        if file.tell() > 1:\n",
    "            file.write(',')\n",
    "        \n",
    "        json.dump(record, file, indent=2)\n",
    "        file.write('\\n')\n",
    "    logging.info(f\"Appended new record to JSON file: {file_path}\")\n",
    "\n",
    "def finalize(file_path):\n",
    "    \"\"\"Add the closing bracket to finalize the JSON array.\"\"\"\n",
    "    with open(file_path, 'a') as file:\n",
    "        file.write(']')  # End the JSON array\n",
    "    logging.info(f\"Finalized and closed JSON file: {file_path}\")\n",
    "\n",
    "def capture_rssi():\n",
    "    \"\"\"Capture RSSI data in a separate thread and handle stopping smoothly.\"\"\"\n",
    "    wifi = PyWiFi()\n",
    "    iface = wifi.interfaces()[0]  # Assuming first interface is the one we want\n",
    "\n",
    "    try:\n",
    "        next_scan_time = time.time()  # Set initial scan time\n",
    "        \n",
    "        while not stop_event.is_set():\n",
    "            start_time = time.time()\n",
    "\n",
    "            iface.scan()  # Start a new scan\n",
    "            results = iface.scan_results()\n",
    "\n",
    "            # Get the current timestamp (without milliseconds)\n",
    "            time_string = dt.datetime.now().strftime('%Y-%m-%d %H:%M:%S')\n",
    "\n",
    "            for network in results:\n",
    "                # Safely access the crowd_count with a lock\n",
    "                with crowd_count_lock:\n",
    "                    current_crowd_count = crowd_count\n",
    "\n",
    "                # Create a record to store in the JSON file\n",
    "                record = {\n",
    "                    'timestamp': time_string,  # Unique timestamp (without milliseconds)\n",
    "                    'ssid': network.ssid,\n",
    "                    'bssid': network.bssid,\n",
    "                    'rssi': network.signal,\n",
    "                    'crowd_count': current_crowd_count  # Include the crowd count\n",
    "                }\n",
    "                # Append the record to the JSON file\n",
    "                append_record(FILE_PATH, record)\n",
    "\n",
    "            # Force garbage collection to free up memory periodically\n",
    "            gc.collect()\n",
    "\n",
    "            # Print status to terminal\n",
    "            print(f\"Data collected at: {time_string} with crowd count: {current_crowd_count}\")\n",
    "\n",
    "            # Calculate the time for the next scan\n",
    "            next_scan_time += 1.0\n",
    "            sleep_duration = max(0, next_scan_time - time.time())  # Ensure non-negative sleep time\n",
    "            time.sleep(sleep_duration)\n",
    "\n",
    "    except Exception as e:\n",
    "        print(f\"Error during Wi-Fi scan: {e}\")\n",
    "\n",
    "# Function to start logging RSSI data\n",
    "def start_logging():\n",
    "    global running, capture_thread, crowd_count  # Ensure crowd_count is global\n",
    "    if not running:\n",
    "        # Take crowd count input if it's not set or if user wants to update it\n",
    "        if crowd_count is None:\n",
    "            crowd_count_input = input(\"Enter initial crowd count: \")\n",
    "            with crowd_count_lock:\n",
    "                crowd_count = crowd_count_input\n",
    "\n",
    "        running = True\n",
    "        stop_event.clear()  # Clear the stop event\n",
    "        print(f\"Data collection started with crowd count: {crowd_count}...\")\n",
    "\n",
    "        # Start the RSSI capture in a new thread\n",
    "        capture_thread = threading.Thread(target=capture_rssi)\n",
    "        capture_thread.start()\n",
    "\n",
    "# Function to stop logging RSSI data\n",
    "def stop_logging():\n",
    "    global running\n",
    "    if running:\n",
    "        running = False\n",
    "        stop_event.set()  # Signal the thread to stop\n",
    "        print(\"Stopping data collection...\")\n",
    "\n",
    "        # Wait for the thread to finish\n",
    "        capture_thread.join()\n",
    "\n",
    "        # Finalize the JSON file\n",
    "        finalize(FILE_PATH)\n",
    "        print(\"Data collection stopped. Ready for next command.\")\n",
    "\n",
    "def main():\n",
    "    global crowd_count\n",
    "    # Initialize the JSON file\n",
    "    init(FILE_PATH)\n",
    "\n",
    "    while True:\n",
    "        command = input(\"Enter 'Y' to start logging, 'N' to stop logging, 'X' to quit, or provide new crowd count: \").upper()\n",
    "\n",
    "        if command == 'Y':\n",
    "            start_logging()\n",
    "        elif command == 'N':\n",
    "            if running:\n",
    "                stop_logging()\n",
    "            else:\n",
    "                print(\"Data collection is not running.\")\n",
    "        elif command == 'X':\n",
    "            if running:\n",
    "                stop_logging()\n",
    "            print(\"Exiting the program.\")\n",
    "            break\n",
    "        else:\n",
    "            # If the command is not 'Y', 'N', or 'X', assume it's a new crowd count\n",
    "            try:\n",
    "                new_crowd_count = int(command)  # Set new crowd count\n",
    "                with crowd_count_lock:\n",
    "                    crowd_count = new_crowd_count  # Update the crowd count\n",
    "                print(f\"Crowd count updated to: {crowd_count}\")\n",
    "            except ValueError:\n",
    "                print(\"Invalid input. Please enter 'Y', 'N', 'X', or a valid crowd count.\")\n",
    "\n",
    "if __name__ == '__main__':\n",
    "    main()"
   ]
  },
  {
   "cell_type": "code",
   "execution_count": null,
   "id": "66a6f858-7360-439a-8bc8-549a5b0dd7e5",
   "metadata": {},
   "outputs": [],
   "source": []
  }
 ],
 "metadata": {
  "kernelspec": {
   "display_name": "Python 3 (ipykernel)",
   "language": "python",
   "name": "python3"
  },
  "language_info": {
   "codemirror_mode": {
    "name": "ipython",
    "version": 3
   },
   "file_extension": ".py",
   "mimetype": "text/x-python",
   "name": "python",
   "nbconvert_exporter": "python",
   "pygments_lexer": "ipython3",
   "version": "3.11.9"
  }
 },
 "nbformat": 4,
 "nbformat_minor": 5
}
